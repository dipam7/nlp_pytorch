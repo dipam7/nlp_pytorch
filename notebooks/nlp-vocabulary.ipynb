{
 "cells": [
  {
   "cell_type": "markdown",
   "metadata": {},
   "source": [
    "## Nlp vocabulary\n",
    "\n",
    "- corpus: text dataset, raw text (can also have metadata)\n",
    "- tokens: alpha numeric separated by spaces (process of converting text to tokens is tokenization)\n",
    "\n",
    "Tokenization in some languages is not always as easy as splitting on whitespace. Eg Turkish."
   ]
  },
  {
   "cell_type": "code",
   "execution_count": 1,
   "metadata": {},
   "outputs": [],
   "source": [
    "import spacy\n",
    "from nltk.tokenize import TweetTokenizer"
   ]
  },
  {
   "cell_type": "code",
   "execution_count": 2,
   "metadata": {},
   "outputs": [],
   "source": [
    "nlp = spacy.load('en')\n",
    "text = \"Mary, don't slap the green witch.\""
   ]
  },
  {
   "cell_type": "code",
   "execution_count": 3,
   "metadata": {},
   "outputs": [
    {
     "name": "stdout",
     "output_type": "stream",
     "text": [
      "['mary', ',', 'do', \"n't\", 'slap', 'the', 'green', 'witch', '.']\n"
     ]
    }
   ],
   "source": [
    "print([str(token) for token in nlp(text.lower())])"
   ]
  },
  {
   "cell_type": "code",
   "execution_count": 4,
   "metadata": {},
   "outputs": [
    {
     "name": "stdout",
     "output_type": "stream",
     "text": [
      "['snow', 'white', 'and', 'the', 'seven', 'degrees', '#makeamoviecold', '@midnight', ':-)']\n"
     ]
    }
   ],
   "source": [
    "tweet=u\"Snow White and the Seven Degrees #MakeAMovieCold@midnight:-)\"\n",
    "tokenizer = TweetTokenizer()\n",
    "print(tokenizer.tokenize(tweet.lower()))"
   ]
  },
  {
   "cell_type": "markdown",
   "metadata": {},
   "source": [
    "- types: unique tokens present in a corpus\n",
    "- vocabulary: collection of all types\n",
    "- n-grams: a sequence of n tokens from the corpus\n",
    "\n",
    "Example: 2 grams\n",
    "\n",
    "\"Learning PyTorch from a pdf is fun\"\n",
    "\n",
    "\"Learning PyTorch\"\n",
    "\n",
    "\"PyTorch from\"\n",
    "\n",
    "\"from a\" and so on.\n",
    "\n",
    "- lemma: root form of a word, fly is the lemma for flying, flown, flew, flies\n",
    "- stemming: simplified lemmatization that includes stripping down words\n",
    "\n",
    "The process of reducing tokens to their lemmas is known as lemmatization and is important to limit the vocabulary"
   ]
  },
  {
   "cell_type": "code",
   "execution_count": 5,
   "metadata": {},
   "outputs": [],
   "source": [
    "# spacy uses predefined dictionary called WordNet for extracting lemmas\n",
    "doc = nlp(u\"he was running late\")"
   ]
  },
  {
   "cell_type": "code",
   "execution_count": 6,
   "metadata": {},
   "outputs": [
    {
     "name": "stdout",
     "output_type": "stream",
     "text": [
      "he --> -PRON-\n",
      "was --> be\n",
      "running --> run\n",
      "late --> late\n"
     ]
    }
   ],
   "source": [
    "for token in doc:\n",
    "    print('{} --> {}'.format(token, token.lemma_))"
   ]
  },
  {
   "cell_type": "markdown",
   "metadata": {},
   "source": [
    "Categorizing documents is one of the earliest application of nlp\n",
    "\n",
    "We can extend the concept of labelling documents to labelling tokens. An example would be parts of speech tagging"
   ]
  },
  {
   "cell_type": "code",
   "execution_count": 7,
   "metadata": {},
   "outputs": [],
   "source": [
    "doc = nlp(u\"Mary slapped the green witch.\")"
   ]
  },
  {
   "cell_type": "code",
   "execution_count": 8,
   "metadata": {},
   "outputs": [
    {
     "name": "stdout",
     "output_type": "stream",
     "text": [
      "Mary --> PROPN\n",
      "slapped --> VERB\n",
      "the --> DET\n",
      "green --> ADJ\n",
      "witch --> NOUN\n",
      ". --> PUNCT\n"
     ]
    }
   ],
   "source": [
    "for token in doc:\n",
    "    print(\"{} --> {}\".format(token, token.pos_))"
   ]
  },
  {
   "cell_type": "code",
   "execution_count": 9,
   "metadata": {},
   "outputs": [
    {
     "name": "stdout",
     "output_type": "stream",
     "text": [
      "Mary --> NP\n",
      "the green witch --> NP\n"
     ]
    }
   ],
   "source": [
    "# noun phrase and word phrase / subject predicate tagging\n",
    "for chunk in doc.noun_chunks:\n",
    "    print(\"{} --> {}\".format(chunk, chunk.label_))"
   ]
  },
  {
   "cell_type": "markdown",
   "metadata": {},
   "source": [
    "another labelling example would be name entity where we use real world tags like person, location, etc.\n",
    "\n",
    "Parse trees indicate how grammatical units are related hierarchically"
   ]
  },
  {
   "cell_type": "markdown",
   "metadata": {},
   "source": [
    "Words often have more than one meaning and the different meanings of a word are called **senses**\n",
    "\n",
    "Neural network approach to nlp is a supplement and not a replacement to traditional nlp approaches. Traditional appraoches work well in production."
   ]
  },
  {
   "cell_type": "code",
   "execution_count": null,
   "metadata": {},
   "outputs": [],
   "source": []
  }
 ],
 "metadata": {
  "kernelspec": {
   "display_name": "Python 3",
   "language": "python",
   "name": "python3"
  },
  "language_info": {
   "codemirror_mode": {
    "name": "ipython",
    "version": 3
   },
   "file_extension": ".py",
   "mimetype": "text/x-python",
   "name": "python",
   "nbconvert_exporter": "python",
   "pygments_lexer": "ipython3",
   "version": "3.6.6"
  }
 },
 "nbformat": 4,
 "nbformat_minor": 1
}
